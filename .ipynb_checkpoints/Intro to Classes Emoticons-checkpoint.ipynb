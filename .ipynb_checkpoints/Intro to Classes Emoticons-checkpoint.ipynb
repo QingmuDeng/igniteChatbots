{
 "cells": [
  {
   "cell_type": "code",
   "execution_count": 1,
   "metadata": {},
   "outputs": [],
   "source": [
    "from nltk.sentiment.vader import SentimentIntensityAnalyzer"
   ]
  },
  {
   "cell_type": "code",
   "execution_count": 3,
   "metadata": {},
   "outputs": [],
   "source": [
    "analyzer = SentimentIntensityAnalyzer()"
   ]
  },
  {
   "cell_type": "code",
   "execution_count": 32,
   "metadata": {},
   "outputs": [
    {
     "data": {
      "text/plain": [
       "{'compound': 0.0, 'neg': 0.0, 'neu': 1.0, 'pos': 0.0}"
      ]
     },
     "execution_count": 32,
     "metadata": {},
     "output_type": "execute_result"
    }
   ],
   "source": [
    "analyzer.polarity_scores(':-]')"
   ]
  },
  {
   "cell_type": "code",
   "execution_count": 23,
   "metadata": {},
   "outputs": [],
   "source": [
    "class emoticons():\n",
    "    def __init__(self, *emoticons):\n",
    "        global analyzer\n",
    "        \n",
    "        # Initiate a collection of positive, negative, and neutral emoticons\n",
    "        self.posEmo = []\n",
    "        self.negEmo = []\n",
    "        self.neuEmo = []\n",
    "        \n",
    "        # Categorize the input emoticons into the positive, negative, and neutral\n",
    "        # Loop through each \n",
    "        for emoticon in emoticons:\n",
    "            temp = analyzer.polarity_scores(emoticon)\n",
    "            if temp['pos'] > temp['neg']:\n",
    "                self.posEmo.append(emoticon)\n",
    "            elif temp['pos'] < temp['neg']:\n",
    "                self.negEmo.append(emoticon)\n",
    "            else:\n",
    "                self.neuEmo.append(emoticon)\n",
    "                \n",
    "    def __string__(self):\n",
    "        \"\"\"Return the three categories of the emoticons\"\"\"\n",
    "        return \n",
    "                \n",
    "    def add_new_emoticon(self, *emoticons):\n",
    "        \"\"\" A function where you pass in emoticons and have it categorized\n",
    "        into the positive, negative and neutral\n",
    "        \"\"\"\n",
    "        for emoticon in emoticons:\n",
    "            temp = analyzer.polarity_scores(emoticon)\n",
    "            if temp['pos'] > temp['neg']:\n",
    "                self.posEmo.append(emoticon)\n",
    "            elif temp['pos'] < temp['neg']:\n",
    "                self.negEmo.append(emoticon)\n",
    "            else:\n",
    "                self.neuEmo.append(emoticon)\n",
    "        \n",
    "    def add_new_positive(self, *pos_emoticons):\n",
    "        \"\"\" A function where you pass in positive emoticons and for sure add\n",
    "        them to the positive category.\n",
    "        \"\"\"\n",
    "    \n",
    "    def emoticon_in_sentence(self, aString):\n",
    "        \"\"\" A function where you pass in a response the computer will give, and\n",
    "        the function will evaluate the sentiment of the response and attach an\n",
    "        appropriate emoticon to the end of the sentence.\n",
    "        \"\"\""
   ]
  },
  {
   "cell_type": "code",
   "execution_count": null,
   "metadata": {},
   "outputs": [],
   "source": []
  }
 ],
 "metadata": {
  "kernelspec": {
   "display_name": "Python 3",
   "language": "python",
   "name": "python3"
  },
  "language_info": {
   "codemirror_mode": {
    "name": "ipython",
    "version": 3
   },
   "file_extension": ".py",
   "mimetype": "text/x-python",
   "name": "python",
   "nbconvert_exporter": "python",
   "pygments_lexer": "ipython3",
   "version": "3.6.3"
  }
 },
 "nbformat": 4,
 "nbformat_minor": 2
}
